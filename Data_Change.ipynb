{
  "nbformat": 4,
  "nbformat_minor": 0,
  "metadata": {
    "colab": {
      "provenance": [],
      "mount_file_id": "17IHn4zJ9fn2bWE4d4wi0aKa7Lyhcm6rO",
      "authorship_tag": "ABX9TyO2p64hB7y7eMraAscR7Cu1",
      "include_colab_link": true
    },
    "kernelspec": {
      "name": "python3",
      "display_name": "Python 3"
    },
    "language_info": {
      "name": "python"
    }
  },
  "cells": [
    {
      "cell_type": "markdown",
      "metadata": {
        "id": "view-in-github",
        "colab_type": "text"
      },
      "source": [
        "<a href=\"https://colab.research.google.com/github/YEONGHUN-H/Healthcare_project/blob/main/Data_Change.ipynb\" target=\"_parent\"><img src=\"https://colab.research.google.com/assets/colab-badge.svg\" alt=\"Open In Colab\"/></a>"
      ]
    },
    {
      "cell_type": "markdown",
      "source": [
        "# 1차원 데이터 전처리"
      ],
      "metadata": {
        "id": "VsEyXDwmajLA"
      }
    },
    {
      "cell_type": "code",
      "execution_count": 5,
      "metadata": {
        "colab": {
          "base_uri": "https://localhost:8080/"
        },
        "id": "YKqFTAvJFgOz",
        "outputId": "5457a400-c6c3-4ddd-9f33-c8b0d8960eab"
      },
      "outputs": [
        {
          "output_type": "stream",
          "name": "stdout",
          "text": [
            "각 열의 결측값:\n",
            " Name                  0\n",
            "Age                   0\n",
            "Gender                0\n",
            "Blood Type            0\n",
            "Medical Condition     0\n",
            "Date of Admission     0\n",
            "Doctor                0\n",
            "Hospital              0\n",
            "Insurance Provider    0\n",
            "Billing Amount        0\n",
            "Room Number           0\n",
            "Admission Type        0\n",
            "Discharge Date        0\n",
            "Medication            0\n",
            "Test Results          0\n",
            "dtype: int64\n",
            "전처리된 데이터가 /content/drive/MyDrive/Colab Notebooks/기계학습프로그램/1차원데이터전처리.csv에 저장되었습니다.\n"
          ]
        }
      ],
      "source": [
        "import pandas as pd\n",
        "from sklearn.preprocessing import LabelEncoder, StandardScaler\n",
        "\n",
        "# 데이터셋 로드\n",
        "file_path = '/content/drive/MyDrive/Colab Notebooks/기계학습프로그램/데이터/healthcare_dataset.csv'\n",
        "data = pd.read_csv(file_path)\n",
        "\n",
        "# 1단계: 결측값 확인\n",
        "missing_values = data.isnull().sum()\n",
        "print(\"각 열의 결측값:\\n\", missing_values)\n",
        "\n",
        "# 결측값을 각 열의 중앙값으로 채움 (숫자형 열만)\n",
        "for colums in data.select_dtypes(include=['float64', 'int64']).columns:\n",
        "    if missing_values[colums] > 0:\n",
        "        data[colums].fillna(data[colums].median(), inplace=True)\n",
        "\n",
        "# 2단계: 새로운 특성 생성 - 입원 기간\n",
        "data['Date of Admission'] = pd.to_datetime(data['Date of Admission'])  # 날짜 변환 (입원)\n",
        "data['Discharge Date'] = pd.to_datetime(data['Discharge Date'])        # 날짜 변환 (퇴원)\n",
        "data['How long stay'] = (data['Discharge Date'] - data['Date of Admission']).dt.days  # 입원 기간 계산\n",
        "\n",
        "# 3단계: 나이를 범위로 구분\n",
        "age_bins = [0, 20, 40, 60, 80, 100]  # 나이 범위\n",
        "age_labels = ['0-20', '21-40', '41-60', '61-80', '81-100']  # 각 나이의 범위에 대한 라벨\n",
        "data['Age Group'] = pd.cut(data['Age'], bins=age_bins, labels=age_labels, right=False)  # 나이 범주화\n",
        "\n",
        "# 4단계: 범주형 변수 인코딩\n",
        "categorical_columns = ['Gender', 'Blood Type', 'Medical Condition', 'Insurance Provider',\n",
        "                       'Admission Type', 'Medication', 'Test Results']\n",
        "\n",
        "label_encoders = {col: LabelEncoder() for col in categorical_columns}\n",
        "for col in categorical_columns:\n",
        "    data[col] = label_encoders[col].fit_transform(data[col])  # 각 열을 숫자형으로 변환\n",
        "\n",
        "# 5단계: 숫자형 열 정규화\n",
        "scaler = StandardScaler()\n",
        "data['Billing Amount'] = scaler.fit_transform(data[['Billing Amount']])  # 청구 금액 정규화\n",
        "\n",
        "# 분석에 필요 없는 열 삭제\n",
        "data = data.drop(columns=['Name', 'Doctor', 'Hospital', 'Room Number'])\n",
        "\n",
        "# 6단계: 전처리된 데이터 저장\n",
        "output_file_path = '/content/drive/MyDrive/Colab Notebooks/기계학습프로그램/1차원데이터전처리.csv'\n",
        "data.to_csv(output_file_path, index=False)\n",
        "\n",
        "print(f\"전처리된 데이터가 {output_file_path}에 저장되었습니다.\")\n"
      ]
    },
    {
      "cell_type": "markdown",
      "source": [
        "# 데이터 이미지화하는 코드."
      ],
      "metadata": {
        "id": "E8OXjBKfXWK-"
      }
    },
    {
      "cell_type": "code",
      "source": [
        "import pandas as pd\n",
        "import numpy as np\n",
        "import matplotlib.pyplot as plt\n",
        "from sklearn.preprocessing import LabelEncoder, StandardScaler\n",
        "import os\n",
        "\n",
        "# 데이터셋 로드\n",
        "file_path = '/content/drive/MyDrive/Colab Notebooks/기계학습프로그램/데이터/healthcare_dataset.csv'\n",
        "data = pd.read_csv(file_path)\n",
        "\n",
        "# 1단계: 결측값 확인\n",
        "missing_values = data.isnull().sum()\n",
        "print(\"각 열의 결측값:\\n\", missing_values)\n",
        "\n",
        "# 결측값을 각 열의 중앙값으로 채움 (숫자형 열만)\n",
        "for colums in data.select_dtypes(include=['float64', 'int64']).columns:\n",
        "    if missing_values[colums] > 0:\n",
        "        data[colums].fillna(data[colums].median(), inplace=True)\n",
        "\n",
        "# 2단계: 새로운 특성 생성 - 입원 기간\n",
        "data['Date of Admission'] = pd.to_datetime(data['Date of Admission'])  # 날짜 변환 (입원)\n",
        "data['Discharge Date'] = pd.to_datetime(data['Discharge Date'])        # 날짜 변환 (퇴원)\n",
        "data['How long stay'] = (data['Discharge Date'] - data['Date of Admission']).dt.days  # 입원 기간 계산\n",
        "\n",
        "# 3단계: 나이를 범위로 구분\n",
        "age_bins = [0, 20, 40, 60, 80, 100]  # 나이 범위\n",
        "age_labels = ['0-20', '21-40', '41-60', '61-80', '81-100']  # 각 나이의 범위에 대한 라벨\n",
        "data['Age Group'] = pd.cut(data['Age'], bins=age_bins, labels=age_labels, right=False)  # 나이 범주화\n",
        "\n",
        "# 4단계: 범주형 변수 인코딩\n",
        "categorical_columns = ['Gender', 'Blood Type', 'Medical Condition', 'Insurance Provider',\n",
        "                       'Admission Type', 'Medication', 'Test Results']\n",
        "\n",
        "label_encoders = {col: LabelEncoder() for col in categorical_columns}\n",
        "for col in categorical_columns:\n",
        "    data[col] = label_encoders[col].fit_transform(data[col])  # 각 열을 숫자형으로 변환\n",
        "\n",
        "# 5단계: 숫자형 열 정규화\n",
        "scaler = StandardScaler()\n",
        "data['Billing Amount'] = scaler.fit_transform(data[['Billing Amount']])  # 청구 금액 정규화\n",
        "\n",
        "# 분석에 필요 없는 열 삭제\n",
        "data = data.drop(columns=['Name', 'Doctor', 'Hospital', 'Room Number'])\n",
        "\n",
        "# 이미지화 함수 정의\n",
        "def create_image_from_data(row, image_size=(28, 28)):\n",
        "    \"\"\"1차원 데이터를 정규화하고 이미지 형태로 변환\"\"\"\n",
        "    array = np.array(row)\n",
        "    normalized_array = (array - np.min(array)) / (np.max(array) - np.min(array))  # 정규화\n",
        "    reshaped_array = np.resize(normalized_array, image_size)  # 이미지 형태로 변환\n",
        "    return reshaped_array\n",
        "\n",
        "# 데이터에서 숫자형 열만 선택\n",
        "numerical_columns = data.select_dtypes(include=['float64', 'int64']).columns\n",
        "image_data = []\n",
        "\n",
        "# 각 행을 이미지화\n",
        "for idx, row in data[numerical_columns].iterrows():\n",
        "    image = create_image_from_data(row, image_size=(28, 28))\n",
        "    image_data.append(image.flatten())  # 이미지 데이터를 1차원으로 저장\n",
        "\n",
        "# 이미지 데이터를 새로운 DataFrame으로 변환\n",
        "image_df = pd.DataFrame(image_data)\n",
        "\n",
        "# 이미지화된 데이터를 저장할 경로\n",
        "output_image_file_path = '/content/drive/MyDrive/Colab Notebooks/기계학습프로그램/이미지화데이터.csv'\n",
        "\n",
        "# CSV로 저장\n",
        "os.makedirs(os.path.dirname(output_image_file_path), exist_ok=True)\n",
        "image_df.to_csv(output_image_file_path, index=False)\n",
        "\n",
        "print(f\"이미지화된 데이터가 {output_image_file_path}에 저장되었습니다.\")\n"
      ],
      "metadata": {
        "colab": {
          "base_uri": "https://localhost:8080/"
        },
        "id": "c6QcHLTgXVy_",
        "outputId": "20c56e29-9963-4353-bcf8-2f8a4c501113"
      },
      "execution_count": 6,
      "outputs": [
        {
          "output_type": "stream",
          "name": "stdout",
          "text": [
            "각 열의 결측값:\n",
            " Name                  0\n",
            "Age                   0\n",
            "Gender                0\n",
            "Blood Type            0\n",
            "Medical Condition     0\n",
            "Date of Admission     0\n",
            "Doctor                0\n",
            "Hospital              0\n",
            "Insurance Provider    0\n",
            "Billing Amount        0\n",
            "Room Number           0\n",
            "Admission Type        0\n",
            "Discharge Date        0\n",
            "Medication            0\n",
            "Test Results          0\n",
            "dtype: int64\n",
            "이미지화된 데이터가 /content/drive/MyDrive/Colab Notebooks/기계학습프로그램/이미지화데이터.csv에 저장되었습니다.\n"
          ]
        }
      ]
    }
  ]
}